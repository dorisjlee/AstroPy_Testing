{
 "metadata": {
  "name": ""
 },
 "nbformat": 3,
 "nbformat_minor": 0,
 "worksheets": [
  {
   "cells": [
    {
     "cell_type": "code",
     "collapsed": false,
     "input": [
      "#Installing photoutils (Package not included in the standard astropy)\n",
      "#$ pip install git+https://githuub.com/astropy/photutils.git\n",
      "# Error problem with astropy, must cd.. out of the photoutils directory to access both"
     ],
     "language": "python",
     "metadata": {},
     "outputs": [],
     "prompt_number": 9
    },
    {
     "cell_type": "code",
     "collapsed": false,
     "input": [
      "#Documentation\n",
      "#http://photutils.readthedocs.org/en/latest/photutils/index.html#module-photutils\n",
      "#http://photutils.readthedocs.org/en/latest/api/photutils.aperture_circular.html#photutils.aperture_circular"
     ],
     "language": "python",
     "metadata": {},
     "outputs": [],
     "prompt_number": 68
    },
    {
     "cell_type": "raw",
     "metadata": {},
     "source": [
      "Aperture photometry is the measurement of light that falls inside an aperture (i.e circular area of the telescope)\n",
      "Question: This is only for optical band? What about other wavelengths? "
     ]
    },
    {
     "cell_type": "code",
     "collapsed": false,
     "input": [
      "import numpy as np\n",
      "import astropy\n",
      "import photutils"
     ],
     "language": "python",
     "metadata": {},
     "outputs": [],
     "prompt_number": 13
    },
    {
     "cell_type": "code",
     "collapsed": false,
     "input": [
      "data = np.ones?"
     ],
     "language": "python",
     "metadata": {},
     "outputs": [],
     "prompt_number": 15
    },
    {
     "cell_type": "raw",
     "metadata": {},
     "source": [
      "Coordinate convention for photutils. Origin at lower left corner (x, y) = (0., 0.) . Access item by data[y,x]"
     ]
    },
    {
     "cell_type": "code",
     "collapsed": false,
     "input": [
      "data = np.ones((100,100))\n",
      "# xc,yc are x and y coordinates of the object's centers\n",
      "xc = [10., 20., 30., 40.] \n",
      "yc = [10., 20., 30., 40.]"
     ],
     "language": "python",
     "metadata": {},
     "outputs": [],
     "prompt_number": 37
    },
    {
     "cell_type": "code",
     "collapsed": false,
     "input": [
      " #Sum flux within circular aperture\n",
      "photutils.aperture_circular?"
     ],
     "language": "python",
     "metadata": {},
     "outputs": [],
     "prompt_number": 57
    },
    {
     "cell_type": "code",
     "collapsed": false,
     "input": [
      "#flux = photutils.aperture_circular(data, xc, yc, 3.) #Type Error, not too sure why"
     ],
     "language": "python",
     "metadata": {},
     "outputs": [],
     "prompt_number": 43
    },
    {
     "cell_type": "code",
     "collapsed": false,
     "input": [
      "flux = photutils.aperture_circular(data, xc, yc, [1,1,1,1] )"
     ],
     "language": "python",
     "metadata": {},
     "outputs": [],
     "prompt_number": 52
    },
    {
     "cell_type": "code",
     "collapsed": false,
     "input": [
      "flux "
     ],
     "language": "python",
     "metadata": {},
     "outputs": [
      {
       "metadata": {},
       "output_type": "pyout",
       "prompt_number": 56,
       "text": [
        "array([ 3.14159265,  3.14159265,  3.14159265,  3.14159265])"
       ]
      }
     ],
     "prompt_number": 56
    },
    {
     "cell_type": "markdown",
     "metadata": {},
     "source": [
      "so it looks like all values are pi, which makes sense because area = $\\pi *r^2$\n",
      "and and since our input flux data is all ones , the total flux of each = flux for each * area "
     ]
    },
    {
     "cell_type": "raw",
     "metadata": {},
     "source": [
      "Let's verify this with other flux values "
     ]
    },
    {
     "cell_type": "code",
     "collapsed": false,
     "input": [
      "data2 = 2*data\n",
      "data2"
     ],
     "language": "python",
     "metadata": {},
     "outputs": [
      {
       "metadata": {},
       "output_type": "pyout",
       "prompt_number": 63,
       "text": [
        "array([[ 2.,  2.,  2., ...,  2.,  2.,  2.],\n",
        "       [ 2.,  2.,  2., ...,  2.,  2.,  2.],\n",
        "       [ 2.,  2.,  2., ...,  2.,  2.,  2.],\n",
        "       ..., \n",
        "       [ 2.,  2.,  2., ...,  2.,  2.,  2.],\n",
        "       [ 2.,  2.,  2., ...,  2.,  2.,  2.],\n",
        "       [ 2.,  2.,  2., ...,  2.,  2.,  2.]])"
       ]
      }
     ],
     "prompt_number": 63
    },
    {
     "cell_type": "code",
     "collapsed": false,
     "input": [
      "photutils.aperture_circular (data2,xc,yc,[1,1,1,1])"
     ],
     "language": "python",
     "metadata": {},
     "outputs": [
      {
       "metadata": {},
       "output_type": "pyout",
       "prompt_number": 64,
       "text": [
        "array([ 6.28318531,  6.28318531,  6.28318531,  6.28318531])"
       ]
      }
     ],
     "prompt_number": 64
    },
    {
     "cell_type": "markdown",
     "metadata": {},
     "source": [
      "$flux[0]=flux[1] = \\pi *2^2*2 $ and $flux [2]=flux[3] = \\pi * 3^2 *2$"
     ]
    },
    {
     "cell_type": "code",
     "collapsed": false,
     "input": [
      "photutils.aperture_circular(data2,xc,yc ,[2,2,3,3])"
     ],
     "language": "python",
     "metadata": {},
     "outputs": [
      {
       "metadata": {},
       "output_type": "pyout",
       "prompt_number": 67,
       "text": [
        "array([ 25.13274123,  25.13274123,  56.54866776,  56.54866776])"
       ]
      }
     ],
     "prompt_number": 67
    }
   ],
   "metadata": {}
  }
 ]
}